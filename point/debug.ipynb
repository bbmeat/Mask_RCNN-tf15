{
 "cells": [
  {
   "cell_type": "code",
   "execution_count": 15,
   "metadata": {},
   "outputs": [
    {
     "name": "stdout",
     "output_type": "stream",
     "text": [
      "['neckline_left', 'neckline_right', 'center_front', 'shoulder_left', 'shoulder_right', 'armpit_left', 'armpit_right', 'waistline_left', 'waistline_right', 'cuff_left_in', 'cuff_left_out', 'cuff_right_in', 'cuff_right_out', 'hemline_left', 'hemline_right']\n"
     ]
    }
   ],
   "source": [
    "class_names_ = ['neckline_left', 'neckline_right', 'center_front', 'shoulder_left',\n",
    "                   'shoulder_right', 'armpit_left', 'armpit_right', 'waistline_left',\n",
    "                   'waistline_right', 'cuff_left_in', 'cuff_left_out', 'cuff_right_in',\n",
    "                   'cuff_right_out', 'top_hem_left', 'top_hem_right', 'waistband_left',\n",
    "                   'waistband_right', 'hemline_left', 'hemline_right', 'crotch',\n",
    "                   'bottom_left_in', 'bottom_left_out', 'bottom_right_in', 'bottom_right_out']\n",
    "'''\n",
    "各类存在的点在class_names_中的索引\n",
    "'''\n",
    "blouse_index=[0,1,2,3,4,5,6,9,10,11,12,13,14]#NUM_KEYPOINTS=13\n",
    "skirt_index=[15,16,17,18]#NUM_KEYPOINTS=4\n",
    "outwear_index=[0,1,3,4,5,6,7,8,9,10,11,12,13,14]#NUM_KEYPOINTS=14\n",
    "dress_index=[0,1,2,3,4,5,6,7,8,9,10,11,12,17,18]#NUM_KEYPOINTS=15\n",
    "trousers_index=[15,16,19,20,21,22,23]#NUM_KEYPOINTS=7\n",
    "\n",
    "\n",
    "all_index={'blouse':blouse_index,\n",
    "           'skirt':skirt_index,\n",
    "           'outwear':outwear_index,\n",
    "           'dress':dress_index,\n",
    "           'trousers':trousers_index}\n",
    "index = all_index['dress']\n",
    "\n",
    "fi_class_names_=[]\n",
    "for i in index:\n",
    "    fi_class_names_.append(class_names_[i])\n",
    "print(fi_class_names_)"
   ]
  },
  {
   "cell_type": "code",
   "execution_count": null,
   "metadata": {
    "collapsed": true
   },
   "outputs": [],
   "source": []
  }
 ],
 "metadata": {
  "kernelspec": {
   "display_name": "Python 3",
   "language": "python",
   "name": "python3"
  },
  "language_info": {
   "codemirror_mode": {
    "name": "ipython",
    "version": 3
   },
   "file_extension": ".py",
   "mimetype": "text/x-python",
   "name": "python",
   "nbconvert_exporter": "python",
   "pygments_lexer": "ipython3",
   "version": "3.5.4rc1"
  }
 },
 "nbformat": 4,
 "nbformat_minor": 1
}
